{
 "cells": [
  {
   "cell_type": "code",
   "execution_count": 1,
   "id": "4a22bc9a-697a-48c9-a27f-9aa280a539ec",
   "metadata": {},
   "outputs": [
    {
     "name": "stdout",
     "output_type": "stream",
     "text": [
      "Conversion complete! faq.json created.\n"
     ]
    }
   ],
   "source": [
    "import json\n",
    "\n",
    "# Load the original JSON file\n",
    "with open(\"intents.json\", \"r\", encoding=\"utf-8\") as file:\n",
    "    data = json.load(file)\n",
    "\n",
    "# Convert to the desired format\n",
    "faq_data = [{\"question\": intent[\"patterns\"], \"answer\": intent[\"responses\"]} for intent in data[\"intents\"]]\n",
    "\n",
    "# Save the transformed JSON file\n",
    "with open(\"faq.json\", \"w\", encoding=\"utf-8\") as file:\n",
    "    json.dump(faq_data, file, indent=4, ensure_ascii=False)\n",
    "\n",
    "print(\"Conversion complete! faq.json created.\")\n"
   ]
  },
  {
   "cell_type": "code",
   "execution_count": null,
   "id": "80ee2cbb-424f-429e-8cfb-0dc4287185a0",
   "metadata": {},
   "outputs": [],
   "source": []
  }
 ],
 "metadata": {
  "kernelspec": {
   "display_name": "Python 3 (ipykernel)",
   "language": "python",
   "name": "python3"
  },
  "language_info": {
   "codemirror_mode": {
    "name": "ipython",
    "version": 3
   },
   "file_extension": ".py",
   "mimetype": "text/x-python",
   "name": "python",
   "nbconvert_exporter": "python",
   "pygments_lexer": "ipython3",
   "version": "3.12.7"
  }
 },
 "nbformat": 4,
 "nbformat_minor": 5
}
